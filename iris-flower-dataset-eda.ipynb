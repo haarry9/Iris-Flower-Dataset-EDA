{
 "cells": [
  {
   "cell_type": "code",
   "execution_count": 1,
   "id": "520f1424",
   "metadata": {
    "_cell_guid": "b1076dfc-b9ad-4769-8c92-a6c4dae69d19",
    "_uuid": "8f2839f25d086af736a60e9eeb907d3b93b6e0e5",
    "execution": {
     "iopub.execute_input": "2024-06-11T14:45:22.206180Z",
     "iopub.status.busy": "2024-06-11T14:45:22.205740Z",
     "iopub.status.idle": "2024-06-11T14:45:23.197683Z",
     "shell.execute_reply": "2024-06-11T14:45:23.196184Z"
    },
    "papermill": {
     "duration": 1.001467,
     "end_time": "2024-06-11T14:45:23.200876",
     "exception": false,
     "start_time": "2024-06-11T14:45:22.199409",
     "status": "completed"
    },
    "tags": []
   },
   "outputs": [
    {
     "name": "stdout",
     "output_type": "stream",
     "text": [
      "/kaggle/input/iris-dataset/iris.csv\n"
     ]
    }
   ],
   "source": [
    "# This Python 3 environment comes with many helpful analytics libraries installed\n",
    "# It is defined by the kaggle/python Docker image: https://github.com/kaggle/docker-python\n",
    "# For example, here's several helpful packages to load\n",
    "\n",
    "import numpy as np # linear algebra\n",
    "import pandas as pd # data processing, CSV file I/O (e.g. pd.read_csv)\n",
    "\n",
    "# Input data files are available in the read-only \"../input/\" directory\n",
    "# For example, running this (by clicking run or pressing Shift+Enter) will list all files under the input directory\n",
    "\n",
    "import os\n",
    "for dirname, _, filenames in os.walk('/kaggle/input'):\n",
    "    for filename in filenames:\n",
    "        print(os.path.join(dirname, filename))\n",
    "\n",
    "# You can write up to 20GB to the current directory (/kaggle/working/) that gets preserved as output when you create a version using \"Save & Run All\" \n",
    "# You can also write temporary files to /kaggle/temp/, but they won't be saved outside of the current session"
   ]
  },
  {
   "cell_type": "code",
   "execution_count": 2,
   "id": "cd185933",
   "metadata": {
    "execution": {
     "iopub.execute_input": "2024-06-11T14:45:23.211735Z",
     "iopub.status.busy": "2024-06-11T14:45:23.211126Z",
     "iopub.status.idle": "2024-06-11T14:45:24.674240Z",
     "shell.execute_reply": "2024-06-11T14:45:24.672888Z"
    },
    "papermill": {
     "duration": 1.471749,
     "end_time": "2024-06-11T14:45:24.677274",
     "exception": false,
     "start_time": "2024-06-11T14:45:23.205525",
     "status": "completed"
    },
    "tags": []
   },
   "outputs": [],
   "source": [
    "import matplotlib.pyplot as plt\n",
    "import seaborn as sns"
   ]
  },
  {
   "cell_type": "code",
   "execution_count": 3,
   "id": "8198a47a",
   "metadata": {
    "execution": {
     "iopub.execute_input": "2024-06-11T14:45:24.687601Z",
     "iopub.status.busy": "2024-06-11T14:45:24.687170Z",
     "iopub.status.idle": "2024-06-11T14:45:24.713766Z",
     "shell.execute_reply": "2024-06-11T14:45:24.712273Z"
    },
    "papermill": {
     "duration": 0.035161,
     "end_time": "2024-06-11T14:45:24.716717",
     "exception": false,
     "start_time": "2024-06-11T14:45:24.681556",
     "status": "completed"
    },
    "tags": []
   },
   "outputs": [],
   "source": [
    "iris = pd.read_csv(\"/kaggle/input/iris-dataset/iris.csv\")"
   ]
  },
  {
   "cell_type": "code",
   "execution_count": 4,
   "id": "506d1e59",
   "metadata": {
    "execution": {
     "iopub.execute_input": "2024-06-11T14:45:24.727691Z",
     "iopub.status.busy": "2024-06-11T14:45:24.727208Z",
     "iopub.status.idle": "2024-06-11T14:45:24.758066Z",
     "shell.execute_reply": "2024-06-11T14:45:24.756866Z"
    },
    "papermill": {
     "duration": 0.039895,
     "end_time": "2024-06-11T14:45:24.761265",
     "exception": false,
     "start_time": "2024-06-11T14:45:24.721370",
     "status": "completed"
    },
    "tags": []
   },
   "outputs": [
    {
     "data": {
      "text/html": [
       "<div>\n",
       "<style scoped>\n",
       "    .dataframe tbody tr th:only-of-type {\n",
       "        vertical-align: middle;\n",
       "    }\n",
       "\n",
       "    .dataframe tbody tr th {\n",
       "        vertical-align: top;\n",
       "    }\n",
       "\n",
       "    .dataframe thead th {\n",
       "        text-align: right;\n",
       "    }\n",
       "</style>\n",
       "<table border=\"1\" class=\"dataframe\">\n",
       "  <thead>\n",
       "    <tr style=\"text-align: right;\">\n",
       "      <th></th>\n",
       "      <th>sepal_length</th>\n",
       "      <th>sepal_width</th>\n",
       "      <th>petal_length</th>\n",
       "      <th>petal_width</th>\n",
       "      <th>species</th>\n",
       "    </tr>\n",
       "  </thead>\n",
       "  <tbody>\n",
       "    <tr>\n",
       "      <th>0</th>\n",
       "      <td>5.1</td>\n",
       "      <td>3.5</td>\n",
       "      <td>1.4</td>\n",
       "      <td>0.2</td>\n",
       "      <td>setosa</td>\n",
       "    </tr>\n",
       "    <tr>\n",
       "      <th>1</th>\n",
       "      <td>4.9</td>\n",
       "      <td>3.0</td>\n",
       "      <td>1.4</td>\n",
       "      <td>0.2</td>\n",
       "      <td>setosa</td>\n",
       "    </tr>\n",
       "    <tr>\n",
       "      <th>2</th>\n",
       "      <td>4.7</td>\n",
       "      <td>3.2</td>\n",
       "      <td>1.3</td>\n",
       "      <td>0.2</td>\n",
       "      <td>setosa</td>\n",
       "    </tr>\n",
       "    <tr>\n",
       "      <th>3</th>\n",
       "      <td>4.6</td>\n",
       "      <td>3.1</td>\n",
       "      <td>1.5</td>\n",
       "      <td>0.2</td>\n",
       "      <td>setosa</td>\n",
       "    </tr>\n",
       "    <tr>\n",
       "      <th>4</th>\n",
       "      <td>5.0</td>\n",
       "      <td>3.6</td>\n",
       "      <td>1.4</td>\n",
       "      <td>0.2</td>\n",
       "      <td>setosa</td>\n",
       "    </tr>\n",
       "  </tbody>\n",
       "</table>\n",
       "</div>"
      ],
      "text/plain": [
       "   sepal_length  sepal_width  petal_length  petal_width species\n",
       "0           5.1          3.5           1.4          0.2  setosa\n",
       "1           4.9          3.0           1.4          0.2  setosa\n",
       "2           4.7          3.2           1.3          0.2  setosa\n",
       "3           4.6          3.1           1.5          0.2  setosa\n",
       "4           5.0          3.6           1.4          0.2  setosa"
      ]
     },
     "execution_count": 4,
     "metadata": {},
     "output_type": "execute_result"
    }
   ],
   "source": [
    "iris.head()"
   ]
  },
  {
   "cell_type": "code",
   "execution_count": 5,
   "id": "4322fde6",
   "metadata": {
    "execution": {
     "iopub.execute_input": "2024-06-11T14:45:24.772802Z",
     "iopub.status.busy": "2024-06-11T14:45:24.772363Z",
     "iopub.status.idle": "2024-06-11T14:45:24.778802Z",
     "shell.execute_reply": "2024-06-11T14:45:24.777501Z"
    },
    "papermill": {
     "duration": 0.015518,
     "end_time": "2024-06-11T14:45:24.781521",
     "exception": false,
     "start_time": "2024-06-11T14:45:24.766003",
     "status": "completed"
    },
    "tags": []
   },
   "outputs": [
    {
     "name": "stdout",
     "output_type": "stream",
     "text": [
      "(150, 5)\n"
     ]
    }
   ],
   "source": [
    "# (Q) how many data-points and features?\n",
    "print(iris.shape)"
   ]
  },
  {
   "cell_type": "code",
   "execution_count": 6,
   "id": "e3df8a9f",
   "metadata": {
    "execution": {
     "iopub.execute_input": "2024-06-11T14:45:24.792715Z",
     "iopub.status.busy": "2024-06-11T14:45:24.792296Z",
     "iopub.status.idle": "2024-06-11T14:45:24.798770Z",
     "shell.execute_reply": "2024-06-11T14:45:24.797367Z"
    },
    "papermill": {
     "duration": 0.015386,
     "end_time": "2024-06-11T14:45:24.801520",
     "exception": false,
     "start_time": "2024-06-11T14:45:24.786134",
     "status": "completed"
    },
    "tags": []
   },
   "outputs": [
    {
     "name": "stdout",
     "output_type": "stream",
     "text": [
      "Index(['sepal_length', 'sepal_width', 'petal_length', 'petal_width',\n",
      "       'species'],\n",
      "      dtype='object')\n"
     ]
    }
   ],
   "source": [
    "# (Q) What are the column names in our dataset?\n",
    "print(iris.columns)"
   ]
  },
  {
   "cell_type": "code",
   "execution_count": 7,
   "id": "f6a2ab50",
   "metadata": {
    "execution": {
     "iopub.execute_input": "2024-06-11T14:45:24.813357Z",
     "iopub.status.busy": "2024-06-11T14:45:24.812886Z",
     "iopub.status.idle": "2024-06-11T14:45:24.830333Z",
     "shell.execute_reply": "2024-06-11T14:45:24.828989Z"
    },
    "papermill": {
     "duration": 0.026452,
     "end_time": "2024-06-11T14:45:24.833115",
     "exception": false,
     "start_time": "2024-06-11T14:45:24.806663",
     "status": "completed"
    },
    "tags": []
   },
   "outputs": [
    {
     "data": {
      "text/plain": [
       "species\n",
       "setosa        50\n",
       "versicolor    50\n",
       "virginica     50\n",
       "Name: count, dtype: int64"
      ]
     },
     "execution_count": 7,
     "metadata": {},
     "output_type": "execute_result"
    }
   ],
   "source": [
    "# (Q) How many data-points for each class are present?\n",
    "# (Q) How many flowers for each species are present?\n",
    "\n",
    "iris[\"species\"].value_counts()\n",
    "#iris is balnced dataset as the number of data points for every class is 50."
   ]
  },
  {
   "cell_type": "markdown",
   "id": "a61a62f8",
   "metadata": {
    "papermill": {
     "duration": 0.004425,
     "end_time": "2024-06-11T14:45:24.842447",
     "exception": false,
     "start_time": "2024-06-11T14:45:24.838022",
     "status": "completed"
    },
    "tags": []
   },
   "source": [
    "## 2-D Scatter Plot"
   ]
  },
  {
   "cell_type": "code",
   "execution_count": null,
   "id": "3bff488b",
   "metadata": {
    "papermill": {
     "duration": 0.005133,
     "end_time": "2024-06-11T14:45:24.852930",
     "exception": false,
     "start_time": "2024-06-11T14:45:24.847797",
     "status": "completed"
    },
    "tags": []
   },
   "outputs": [],
   "source": []
  }
 ],
 "metadata": {
  "kaggle": {
   "accelerator": "none",
   "dataSources": [
    {
     "datasetId": 2354152,
     "sourceId": 3966491,
     "sourceType": "datasetVersion"
    }
   ],
   "dockerImageVersionId": 30732,
   "isGpuEnabled": false,
   "isInternetEnabled": false,
   "language": "python",
   "sourceType": "notebook"
  },
  "kernelspec": {
   "display_name": "Python 3",
   "language": "python",
   "name": "python3"
  },
  "language_info": {
   "codemirror_mode": {
    "name": "ipython",
    "version": 3
   },
   "file_extension": ".py",
   "mimetype": "text/x-python",
   "name": "python",
   "nbconvert_exporter": "python",
   "pygments_lexer": "ipython3",
   "version": "3.10.13"
  },
  "papermill": {
   "default_parameters": {},
   "duration": 6.428714,
   "end_time": "2024-06-11T14:45:25.480516",
   "environment_variables": {},
   "exception": null,
   "input_path": "__notebook__.ipynb",
   "output_path": "__notebook__.ipynb",
   "parameters": {},
   "start_time": "2024-06-11T14:45:19.051802",
   "version": "2.5.0"
  }
 },
 "nbformat": 4,
 "nbformat_minor": 5
}
